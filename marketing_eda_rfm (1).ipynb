{
  "cells": [
    {
      "cell_type": "code",
      "execution_count": null,
      "id": "84eb4145",
      "metadata": {
        "_cell_guid": "b1076dfc-b9ad-4769-8c92-a6c4dae69d19",
        "_uuid": "8f2839f25d086af736a60e9eeb907d3b93b6e0e5",
        "execution": {
          "iopub.execute_input": "2021-08-26T15:25:31.620711Z",
          "iopub.status.busy": "2021-08-26T15:25:31.620040Z",
          "iopub.status.idle": "2021-08-26T15:25:34.577605Z",
          "shell.execute_reply": "2021-08-26T15:25:34.576793Z",
          "shell.execute_reply.started": "2021-08-26T15:03:37.292504Z"
        },
        "papermill": {
          "duration": 3.030725,
          "end_time": "2021-08-26T15:25:34.577817",
          "exception": false,
          "start_time": "2021-08-26T15:25:31.547092",
          "status": "completed"
        },
        "tags": [],
        "id": "84eb4145"
      },
      "outputs": [],
      "source": [
        "# loading necessary libraries\n",
        "\n",
        "import numpy as np\n",
        "import pandas as pd\n",
        "import matplotlib.pyplot as plt\n",
        "import seaborn as sns\n",
        "\n",
        "import statsmodels.api as sm\n",
        "from scipy.stats import linregress\n",
        "\n",
        "from sklearn.cluster import KMeans\n",
        "from sklearn.preprocessing import StandardScaler\n"
      ]
    },
    {
      "cell_type": "markdown",
      "source": [
        "- The comment #CHANGETHIS in the code cell indicate places that you can modify, often by replacing a column name or a number, to run different analysis\n",
        "- **Hints** in the text cells are possible directions you can explore for your report"
      ],
      "metadata": {
        "id": "3lmSW2k4-UFl"
      },
      "id": "3lmSW2k4-UFl"
    },
    {
      "cell_type": "markdown",
      "source": [
        "# Upload data\n",
        "Make sure to upload `marketing-data.csv` to `Files` panle on the left"
      ],
      "metadata": {
        "id": "yuHuwGdS4TVI"
      },
      "id": "yuHuwGdS4TVI"
    },
    {
      "cell_type": "code",
      "source": [
        "data = pd.read_csv('./marketing-data.csv')\n",
        "data.head()"
      ],
      "metadata": {
        "id": "i_dNt5zl4ddv"
      },
      "id": "i_dNt5zl4ddv",
      "execution_count": null,
      "outputs": []
    },
    {
      "cell_type": "code",
      "source": [
        "data.columns"
      ],
      "metadata": {
        "id": "rbctnp0h8TM5"
      },
      "id": "rbctnp0h8TM5",
      "execution_count": null,
      "outputs": []
    },
    {
      "cell_type": "markdown",
      "source": [
        "# Data Cleaning\n",
        "\n"
      ],
      "metadata": {
        "id": "vBb-0nwy5ck6"
      },
      "id": "vBb-0nwy5ck6"
    },
    {
      "cell_type": "markdown",
      "source": [
        "Some data cleaning is performed below so your data is ready for analysis"
      ],
      "metadata": {
        "id": "U2DtF_Df5f_6"
      },
      "id": "U2DtF_Df5f_6"
    },
    {
      "cell_type": "markdown",
      "id": "f7f466c8",
      "metadata": {
        "papermill": {
          "duration": 0.060434,
          "end_time": "2021-08-26T15:25:36.382620",
          "exception": false,
          "start_time": "2021-08-26T15:25:36.322186",
          "status": "completed"
        },
        "tags": [],
        "id": "f7f466c8"
      },
      "source": [
        "### **Data description**"
      ]
    },
    {
      "cell_type": "markdown",
      "id": "9868928a",
      "metadata": {
        "papermill": {
          "duration": 0.058943,
          "end_time": "2021-08-26T15:25:36.500403",
          "exception": false,
          "start_time": "2021-08-26T15:25:36.441460",
          "status": "completed"
        },
        "tags": [],
        "id": "9868928a"
      },
      "source": [
        "Here are some of the columns in the data:\n",
        "\n",
        "- AcceptedCmp1-5: Whether the customer accepted the offer in each of the five campaigns.\n",
        "- Response: Whether the customer accepted the offer in the last campaign.\n",
        "- Complain: Whether the customer filed a complaint - in the last 2 years.\n",
        "- DtCustomer: Date when the customer enrolled with the company.\n",
        "- Income: Customer's yearly household income.\n",
        "- Kidhome, Teenhome: Number of small children and teenagers in the household.\n",
        "- MntWines, MntMeatProducts, MntFishProducts, MntFruits, MntSweetProducts, MntGoldProds: Amount spent on different product categories in the last 2 years.\n",
        "- NumDealsPurchases: Number of purchases made with a discount.\n",
        "- NumCatalogPurchases: Number of purchases made using catalogs.\n",
        "- NumStorePurchases: Number of purchases made in physical stores.\n",
        "- NumWebPurchases: Number of purchases made through the website.\n",
        "- NumWebVisitsMonth: Number of visits to the website in the last month.\n",
        "- Recency: Number of days since the customer's last purchase."
      ]
    },
    {
      "cell_type": "markdown",
      "id": "a96edb1c",
      "metadata": {
        "papermill": {
          "duration": 0.058134,
          "end_time": "2021-08-26T15:25:36.617225",
          "exception": false,
          "start_time": "2021-08-26T15:25:36.559091",
          "status": "completed"
        },
        "tags": [],
        "id": "a96edb1c"
      },
      "source": [
        "### **Data types**"
      ]
    },
    {
      "cell_type": "code",
      "execution_count": null,
      "id": "62c754d7",
      "metadata": {
        "execution": {
          "iopub.execute_input": "2021-08-26T15:25:36.762228Z",
          "iopub.status.busy": "2021-08-26T15:25:36.746051Z",
          "iopub.status.idle": "2021-08-26T15:25:36.767258Z",
          "shell.execute_reply": "2021-08-26T15:25:36.767712Z",
          "shell.execute_reply.started": "2021-08-26T15:03:40.975024Z"
        },
        "papermill": {
          "duration": 0.090659,
          "end_time": "2021-08-26T15:25:36.767911",
          "exception": false,
          "start_time": "2021-08-26T15:25:36.677252",
          "status": "completed"
        },
        "tags": [],
        "id": "62c754d7"
      },
      "outputs": [],
      "source": [
        "print(data.info())"
      ]
    },
    {
      "cell_type": "markdown",
      "id": "01d4913a",
      "metadata": {
        "papermill": {
          "duration": 0.058749,
          "end_time": "2021-08-26T15:25:36.887026",
          "exception": false,
          "start_time": "2021-08-26T15:25:36.828277",
          "status": "completed"
        },
        "tags": [],
        "id": "01d4913a"
      },
      "source": [
        "**Hint**: in your report, please describe which columns are categorical and which are numerical\n"
      ]
    },
    {
      "cell_type": "markdown",
      "id": "d1b3b9bb",
      "metadata": {
        "papermill": {
          "duration": 0.060112,
          "end_time": "2021-08-26T15:25:37.533789",
          "exception": false,
          "start_time": "2021-08-26T15:25:37.473677",
          "status": "completed"
        },
        "tags": [],
        "id": "d1b3b9bb"
      },
      "source": [
        "### Exploratory Data Analysis"
      ]
    },
    {
      "cell_type": "code",
      "execution_count": null,
      "id": "f0bfbb6c",
      "metadata": {
        "execution": {
          "iopub.execute_input": "2021-08-26T15:25:37.937529Z",
          "iopub.status.busy": "2021-08-26T15:25:37.933367Z",
          "iopub.status.idle": "2021-08-26T15:25:39.237932Z",
          "shell.execute_reply": "2021-08-26T15:25:39.237322Z",
          "shell.execute_reply.started": "2021-08-26T15:03:41.077747Z"
        },
        "papermill": {
          "duration": 1.374085,
          "end_time": "2021-08-26T15:25:39.238077",
          "exception": false,
          "start_time": "2021-08-26T15:25:37.863992",
          "status": "completed"
        },
        "tags": [],
        "id": "f0bfbb6c"
      },
      "outputs": [],
      "source": [
        "plt.figure(figsize=(8, 6))\n",
        "sns.histplot(data['Age'], bins=20, kde=True)  # CHANGETHIS: explore different columns\n",
        "plt.title('Distribution of Age')\n",
        "plt.xlabel('Age')\n",
        "plt.ylabel('Frequency')\n",
        "plt.show()"
      ]
    },
    {
      "cell_type": "markdown",
      "source": [
        "**Hints**:\n",
        "- In your report, please report the distribution of selected columns (please provide reasons for selecting the columns).\n",
        "- Please comment on the distributions"
      ],
      "metadata": {
        "id": "-syPVFcj-2Ty"
      },
      "id": "-syPVFcj-2Ty"
    },
    {
      "cell_type": "markdown",
      "source": [
        "You can plot distribution on specific group of customers, for example, `Age` of customers with kids."
      ],
      "metadata": {
        "id": "6e9HYfL_BjR6"
      },
      "id": "6e9HYfL_BjR6"
    },
    {
      "cell_type": "code",
      "source": [
        "customers_with_kids = data.loc[data['Kidhome'] > 0] # CHANGETHIS: replace this condition to get other subgroup of customers\n",
        "\n",
        "plt.figure(figsize=(8, 6))\n",
        "sns.histplot(customers_with_kids['Age'] , bins=20, kde=True)\n",
        "plt.title('Distribution of Age')\n",
        "plt.xlabel('Age')\n",
        "plt.ylabel('Frequency')\n",
        "plt.show()"
      ],
      "metadata": {
        "id": "oL3DrmJ8BiLO"
      },
      "id": "oL3DrmJ8BiLO",
      "execution_count": null,
      "outputs": []
    },
    {
      "cell_type": "markdown",
      "source": [
        "**Hints:**\n",
        "\n",
        "- Are there interesting distributions of other variables in your data? For example, do the `Income` distributions differ between customers with different educational levels?\n",
        "- Please comment on the distributions"
      ],
      "metadata": {
        "id": "KGgTPVE9CJfn"
      },
      "id": "KGgTPVE9CJfn"
    },
    {
      "cell_type": "markdown",
      "source": [
        "# Linear Regression\n",
        "\n",
        "Below is an example analysis exploring the linear relationship between two variables, e.g. `Age` and `Income`"
      ],
      "metadata": {
        "id": "utL8OuHF_d9a"
      },
      "id": "utL8OuHF_d9a"
    },
    {
      "cell_type": "code",
      "execution_count": null,
      "id": "5a010d6e",
      "metadata": {
        "execution": {
          "iopub.execute_input": "2021-08-26T15:25:40.068520Z",
          "iopub.status.busy": "2021-08-26T15:25:40.067084Z",
          "iopub.status.idle": "2021-08-26T15:25:41.673093Z",
          "shell.execute_reply": "2021-08-26T15:25:41.672353Z",
          "shell.execute_reply.started": "2021-08-26T15:03:42.525934Z"
        },
        "papermill": {
          "duration": 1.677251,
          "end_time": "2021-08-26T15:25:41.673266",
          "exception": false,
          "start_time": "2021-08-26T15:25:39.996015",
          "status": "completed"
        },
        "tags": [],
        "id": "5a010d6e"
      },
      "outputs": [],
      "source": [
        "# Define the two numerical columns for regression (e.g., 'Age' and 'MntWines')\n",
        "# CHANGETHIS: try other pairs of columns\n",
        "x_column = 'Age'  # Independent variable\n",
        "y_column = 'Income'  # Dependent variable\n",
        "\n",
        "# Remove missing values to ensure clean data\n",
        "df = data[[x_column, y_column]].dropna()\n",
        "\n",
        "# Scatterplot to visualize the relationship\n",
        "plt.figure(figsize=(8, 6))\n",
        "plt.scatter(df[x_column], df[y_column], alpha=0.7)\n",
        "plt.title(f'Scatterplot of {x_column} vs {y_column}')\n",
        "plt.xlabel(x_column)\n",
        "plt.ylabel(y_column)\n",
        "plt.grid()\n",
        "plt.show()\n",
        "\n",
        "# Step 1: Perform linear regression using statsmodels\n",
        "X = sm.add_constant(df[x_column])  # Add a constant for the intercept\n",
        "y = df[y_column]\n",
        "model = sm.OLS(y, X).fit()  # Fit the model\n",
        "print(model.summary())  # Display the regression results\n",
        "\n",
        "# Step 2: Perform hypothesis testing using scipy's linregress\n",
        "slope, intercept, r_value, p_value, std_err = linregress(df[x_column], df[y_column])\n",
        "\n",
        "print(f\"Slope: {slope}\")\n",
        "print(f\"Intercept: {intercept}\")\n",
        "print(f\"R-squared: {r_value**2}\")\n",
        "print(f\"P-value: {p_value}\")\n",
        "print(f\"Standard Error: {std_err}\")\n"
      ]
    },
    {
      "cell_type": "markdown",
      "source": [
        "**Hints:**\n",
        "- Can you write the linear equation linking `Age` and `Income` based on the `Slope` and `Intercept` values above?\n",
        "- What is the hypothesis testing for in this case? Specifically, what is the null and alternative hypotheses?\n",
        "- What conclusion can we draw for from the `P-value` above?\n",
        "- The relationship between `Age` and `Income` does not mean much from a business analytics point of view. Can you repeat the linear regression analysis on other pairs of variables? Can you interpret such relationships?"
      ],
      "metadata": {
        "id": "bqxmBYSUCvnH"
      },
      "id": "bqxmBYSUCvnH"
    },
    {
      "cell_type": "markdown",
      "source": [
        "# User segmentation with RFM framework\n",
        "\n",
        "We can perform segment the customers based using the RFM framework:\n",
        "- R: Recency - how recent is the last purchase by a customer\n",
        "- F: Frequency - how often does a customer make a purchase\n",
        "- M: Monetary - how much does a customer pay in total"
      ],
      "metadata": {
        "id": "qM7bq2shVM8l"
      },
      "id": "qM7bq2shVM8l"
    },
    {
      "cell_type": "markdown",
      "source": [
        "## Derive RFM features\n",
        "In our data, the `Recency` value already exists, we need to derive Frequency and Monetary value from the existing columns.*italicized text*"
      ],
      "metadata": {
        "id": "WQug5RYLVe9V"
      },
      "id": "WQug5RYLVe9V"
    },
    {
      "cell_type": "code",
      "source": [
        "# Frequency: Sum of all purchase channels\n",
        "# CHANGETHIS: are all purchase channels included in the summation below?\n",
        "data['Frequency'] = data[['NumCatalogPurchases', 'NumDealsPurchases']].sum(axis=1)\n",
        "\n",
        "# Monetary: Sum of all monetary columns\n",
        "# CHANGETHIS: are all product categories channels included in the summation below?\n",
        "data['Monetary'] = data[['MntWines', 'MntFishProducts', 'MntMeatProducts', 'MntSweetProducts', 'MntGoldProds']].sum(axis=1)\n",
        "\n",
        "# Select RFM columns\n",
        "rfm_data = data[['Recency', 'Frequency', 'Monetary']]"
      ],
      "metadata": {
        "id": "Sf9rAXCuVsTW"
      },
      "id": "Sf9rAXCuVsTW",
      "execution_count": null,
      "outputs": []
    },
    {
      "cell_type": "markdown",
      "source": [
        "## Perform K-means clustering\n",
        "The code below performs K-means with 2 clusters (segments). You may need to try different number of clusters before deciding on an ideal number of clusters.\n",
        "\n",
        "Note that you can also try using an automated method (e.g. the \"elbow\" method in the k-means tutorial given during our class) to help determine the ideal number of clusters. Otherwise, you can do try-and-error, visualize/analyze whether the clusters make sense and decide on an optimal number of clusters."
      ],
      "metadata": {
        "id": "mGbJZFHNsEvT"
      },
      "id": "mGbJZFHNsEvT"
    },
    {
      "cell_type": "code",
      "source": [
        "# CHANGETHIS: try different number of clusters\n",
        "NUM_CLUSTER = 2\n",
        "\n",
        "scaler = StandardScaler()\n",
        "rfm_scaled = scaler.fit_transform(rfm_data)\n",
        "\n",
        "kmeans = KMeans(n_clusters=NUM_CLUSTER, max_iter=50)\n",
        "kmeans.fit(rfm_scaled)\n"
      ],
      "metadata": {
        "id": "Qthf2iezX7Mr"
      },
      "id": "Qthf2iezX7Mr",
      "execution_count": null,
      "outputs": []
    },
    {
      "cell_type": "markdown",
      "source": [
        "## Analyze the clusters\n",
        "You should analyze the clusters based on each of the 3 R, F, M factors.\n"
      ],
      "metadata": {
        "id": "XNTM6COq6i0l"
      },
      "id": "XNTM6COq6i0l"
    },
    {
      "cell_type": "code",
      "source": [
        "data['Cluster_Id'] = kmeans.labels_\n",
        "\n",
        "sns.boxplot(x='Cluster_Id', y='Recency', data=data) # CHANGE THIS: repeat the analysis for F, M factors"
      ],
      "metadata": {
        "id": "2YpddHK78egm"
      },
      "id": "2YpddHK78egm",
      "execution_count": null,
      "outputs": []
    },
    {
      "cell_type": "markdown",
      "source": [
        "**Hints:**\n",
        "- Can you repeat the visualization and analysis for `Frequency` and `Monetary` aspects?\n",
        "- What can you say about the clusters based on the differences in R, F, M?\n",
        "- What different business strategies (marketing, customer support, etc.) would you apply to the clusters?\n"
      ],
      "metadata": {
        "id": "rIkYM4eb8sMk"
      },
      "id": "rIkYM4eb8sMk"
    }
  ],
  "metadata": {
    "kernelspec": {
      "display_name": "Python 3",
      "language": "python",
      "name": "python3"
    },
    "language_info": {
      "codemirror_mode": {
        "name": "ipython",
        "version": 3
      },
      "file_extension": ".py",
      "mimetype": "text/x-python",
      "name": "python",
      "nbconvert_exporter": "python",
      "pygments_lexer": "ipython3",
      "version": "3.7.10"
    },
    "papermill": {
      "default_parameters": {},
      "duration": 33.011152,
      "end_time": "2021-08-26T15:25:55.486312",
      "environment_variables": {},
      "exception": null,
      "input_path": "__notebook__.ipynb",
      "output_path": "__notebook__.ipynb",
      "parameters": {},
      "start_time": "2021-08-26T15:25:22.475160",
      "version": "2.3.3"
    },
    "colab": {
      "provenance": []
    }
  },
  "nbformat": 4,
  "nbformat_minor": 5
}